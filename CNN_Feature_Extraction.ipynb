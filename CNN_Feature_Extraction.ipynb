{
 "cells": [
  {
   "cell_type": "code",
   "execution_count": 1,
   "metadata": {
    "collapsed": false
   },
   "outputs": [
    {
     "name": "stderr",
     "output_type": "stream",
     "text": [
      "/Users/RayLJazz/miniconda3/envs/python2/lib/python2.7/site-packages/theano/tensor/signal/downsample.py:6: UserWarning: downsample module has been moved to the theano.tensor.signal.pool module.\n",
      "  \"downsample module has been moved to the theano.tensor.signal.pool module.\")\n"
     ]
    }
   ],
   "source": [
    "import numpy as np\n",
    "from numpy import array\n",
    "from PIL import Image\n",
    "import PIL\n",
    "from skimage import io,color\n",
    "from matplotlib import pyplot as plt\n",
    "import cv2\n",
    "import pandas as pd\n",
    "import numpy as np\n",
    "from numpy import array\n",
    "import os\n",
    "from sklearn_theano.datasets import fetch_asirra\n",
    "from sklearn_theano.feature_extraction import OverfeatTransformer\n",
    "%matplotlib inline\n",
    "os.chdir('/Users/RayLJazz/Dropbox/UCDavis/2016summer/DSG/')"
   ]
  },
  {
   "cell_type": "code",
   "execution_count": 2,
   "metadata": {
    "collapsed": false
   },
   "outputs": [],
   "source": [
    "### read training data\n",
    "trainPath = \"id_train.csv\"\n",
    "train = pd.read_csv(trainPath) # 8000\n",
    "all_train_id = train['Id']\n",
    "all_labels = train['label']\n",
    "### get testing data id\n",
    "testPath = \"sample_submission4.csv\"\n",
    "test = pd.read_csv(testPath) # 13998\n",
    "test_id = test[\"Id\"]\n",
    "### read all images'id into array\n",
    "path = \"roof_images/\"\n",
    "pics = os.listdir(path) # 42760 pictures"
   ]
  },
  {
   "cell_type": "code",
   "execution_count": 3,
   "metadata": {
    "collapsed": false
   },
   "outputs": [
    {
     "data": {
      "text/plain": [
       "42760"
      ]
     },
     "execution_count": 3,
     "metadata": {},
     "output_type": "execute_result"
    }
   ],
   "source": [
    "len(pics)"
   ]
  },
  {
   "cell_type": "code",
   "execution_count": 4,
   "metadata": {
    "collapsed": false
   },
   "outputs": [],
   "source": [
    "pics.remove('.DS_Store')"
   ]
  },
  {
   "cell_type": "code",
   "execution_count": 5,
   "metadata": {
    "collapsed": false
   },
   "outputs": [
    {
     "data": {
      "text/plain": [
       "42759"
      ]
     },
     "execution_count": 5,
     "metadata": {},
     "output_type": "execute_result"
    }
   ],
   "source": [
    "len(pics)"
   ]
  },
  {
   "cell_type": "code",
   "execution_count": 6,
   "metadata": {
    "collapsed": false
   },
   "outputs": [
    {
     "data": {
      "text/plain": [
       "1    3479\n",
       "2    1856\n",
       "4    1806\n",
       "3     859\n",
       "Name: label, dtype: int64"
      ]
     },
     "execution_count": 6,
     "metadata": {},
     "output_type": "execute_result"
    }
   ],
   "source": [
    "train['label'].value_counts()"
   ]
  },
  {
   "cell_type": "markdown",
   "metadata": {},
   "source": [
    "We will use stratified cross validation."
   ]
  },
  {
   "cell_type": "markdown",
   "metadata": {},
   "source": [
    "## Resize image function"
   ]
  },
  {
   "cell_type": "code",
   "execution_count": 139,
   "metadata": {
    "collapsed": true
   },
   "outputs": [],
   "source": [
    "def resizeImg(imgId, stand_size=(256, 256)):\n",
    "    # stand_size if the size an image is scaled to\n",
    "    # e.g stand_size = (256, 256)\n",
    "    fromDir = 'roof_images'\n",
    "    toDir = 'resized_images'\n",
    "    imgFile = fromDir+'/'+str(imgId)\n",
    "    img = Image.open(imgFile)\n",
    "    img = img.resize(stand_size, PIL.Image.ANTIALIAS)\n",
    "    img.save(toDir+'/'+str(imgId))"
   ]
  },
  {
   "cell_type": "code",
   "execution_count": 140,
   "metadata": {
    "collapsed": false
   },
   "outputs": [],
   "source": [
    "resize = lambda i: resizeImg(i)\n",
    "resize_color_origin = pd.Series(data=pics).apply(resizeImg)"
   ]
  },
  {
   "cell_type": "code",
   "execution_count": 160,
   "metadata": {
    "collapsed": false,
    "scrolled": true
   },
   "outputs": [
    {
     "data": {
      "text/plain": [
       "(8000,)"
      ]
     },
     "execution_count": 160,
     "metadata": {},
     "output_type": "execute_result"
    }
   ],
   "source": [
    "all_train_id.shape"
   ]
  },
  {
   "cell_type": "code",
   "execution_count": 158,
   "metadata": {
    "collapsed": false,
    "scrolled": true
   },
   "outputs": [
    {
     "data": {
      "text/plain": [
       "(13999,)"
      ]
     },
     "execution_count": 158,
     "metadata": {},
     "output_type": "execute_result"
    }
   ],
   "source": [
    "test_id.shape"
   ]
  },
  {
   "cell_type": "code",
   "execution_count": 161,
   "metadata": {
    "collapsed": true
   },
   "outputs": [],
   "source": [
    "def resizeImg_array(imgId, stand_size=(256, 256)):\n",
    "    fromDir = 'resized_images'\n",
    "    imgFile = fromDir+'/'+str(imgId)+'.jpg'\n",
    "    img = io.imread(imgFile)\n",
    "    return img"
   ]
  },
  {
   "cell_type": "code",
   "execution_count": 142,
   "metadata": {
    "collapsed": false
   },
   "outputs": [
    {
     "data": {
      "text/plain": [
       "['-1166002.jpg', '-1191173.jpg']"
      ]
     },
     "execution_count": 142,
     "metadata": {},
     "output_type": "execute_result"
    }
   ],
   "source": [
    "pics[0:2]"
   ]
  },
  {
   "cell_type": "code",
   "execution_count": 175,
   "metadata": {
    "collapsed": false
   },
   "outputs": [],
   "source": [
    "resize = lambda i: resizeImg_array(i)\n",
    "resize_train = pd.Series(data=all_train_id).apply(resize)\n",
    "resize_color_origin_train=pd.DataFrame()\n",
    "resize_color_origin_train['Id']=all_train_id\n",
    "resize_color_origin_train['ColorArray']=resize_train"
   ]
  },
  {
   "cell_type": "code",
   "execution_count": 176,
   "metadata": {
    "collapsed": false
   },
   "outputs": [
    {
     "data": {
      "text/html": [
       "<div>\n",
       "<table border=\"1\" class=\"dataframe\">\n",
       "  <thead>\n",
       "    <tr style=\"text-align: right;\">\n",
       "      <th></th>\n",
       "      <th>Id</th>\n",
       "      <th>ColorArray</th>\n",
       "    </tr>\n",
       "  </thead>\n",
       "  <tbody>\n",
       "    <tr>\n",
       "      <th>0</th>\n",
       "      <td>-3935637</td>\n",
       "      <td>[[[29, 44, 41], [27, 42, 39], [23, 38, 35], [1...</td>\n",
       "    </tr>\n",
       "    <tr>\n",
       "      <th>1</th>\n",
       "      <td>-2815459</td>\n",
       "      <td>[[[75, 89, 92], [81, 92, 98], [85, 96, 102], [...</td>\n",
       "    </tr>\n",
       "    <tr>\n",
       "      <th>2</th>\n",
       "      <td>-2355684</td>\n",
       "      <td>[[[40, 49, 46], [38, 47, 44], [36, 45, 42], [3...</td>\n",
       "    </tr>\n",
       "    <tr>\n",
       "      <th>3</th>\n",
       "      <td>-2343303</td>\n",
       "      <td>[[[27, 48, 67], [26, 47, 64], [26, 47, 64], [2...</td>\n",
       "    </tr>\n",
       "    <tr>\n",
       "      <th>4</th>\n",
       "      <td>-1981985</td>\n",
       "      <td>[[[123, 127, 126], [122, 126, 125], [118, 122,...</td>\n",
       "    </tr>\n",
       "  </tbody>\n",
       "</table>\n",
       "</div>"
      ],
      "text/plain": [
       "        Id                                         ColorArray\n",
       "0 -3935637  [[[29, 44, 41], [27, 42, 39], [23, 38, 35], [1...\n",
       "1 -2815459  [[[75, 89, 92], [81, 92, 98], [85, 96, 102], [...\n",
       "2 -2355684  [[[40, 49, 46], [38, 47, 44], [36, 45, 42], [3...\n",
       "3 -2343303  [[[27, 48, 67], [26, 47, 64], [26, 47, 64], [2...\n",
       "4 -1981985  [[[123, 127, 126], [122, 126, 125], [118, 122,..."
      ]
     },
     "execution_count": 176,
     "metadata": {},
     "output_type": "execute_result"
    }
   ],
   "source": [
    "resize_color_origin_train.head()"
   ]
  },
  {
   "cell_type": "code",
   "execution_count": 179,
   "metadata": {
    "collapsed": false
   },
   "outputs": [
    {
     "data": {
      "text/plain": [
       "(8000, 2)"
      ]
     },
     "execution_count": 179,
     "metadata": {},
     "output_type": "execute_result"
    }
   ],
   "source": [
    "resize_color_origin_train.shape"
   ]
  },
  {
   "cell_type": "code",
   "execution_count": 177,
   "metadata": {
    "collapsed": true
   },
   "outputs": [],
   "source": [
    "import pickle\n",
    "with open('resize_color_origin_train.pickle', 'wb') as handle:\n",
    "    pickle.dump(resize_color_origin_train, handle,protocol=2)"
   ]
  },
  {
   "cell_type": "code",
   "execution_count": 178,
   "metadata": {
    "collapsed": false
   },
   "outputs": [
    {
     "data": {
      "text/plain": [
       "(13999, 2)"
      ]
     },
     "execution_count": 178,
     "metadata": {},
     "output_type": "execute_result"
    }
   ],
   "source": [
    "resize = lambda i: resizeImg_array(i)\n",
    "resize_test = pd.Series(data=test_id).apply(resize)\n",
    "resize_color_origin_test=pd.DataFrame()\n",
    "resize_color_origin_test['Id']=test_id\n",
    "resize_color_origin_test['ColorArray']=resize_test\n",
    "resize_color_origin_test.shape"
   ]
  },
  {
   "cell_type": "code",
   "execution_count": 37,
   "metadata": {
    "collapsed": false
   },
   "outputs": [
    {
     "data": {
      "text/plain": [
       "(256, 256, 3)"
      ]
     },
     "execution_count": 37,
     "metadata": {},
     "output_type": "execute_result"
    }
   ],
   "source": [
    "resize_color_origin_test['ColorArray'][0].shape"
   ]
  },
  {
   "cell_type": "code",
   "execution_count": 181,
   "metadata": {
    "collapsed": true
   },
   "outputs": [],
   "source": [
    "import pickle\n",
    "with open('resize_color_origin_test.pickle', 'wb') as handle:\n",
    "    pickle.dump(resize_color_origin_test, handle,protocol=2)"
   ]
  },
  {
   "cell_type": "code",
   "execution_count": 7,
   "metadata": {
    "collapsed": true
   },
   "outputs": [],
   "source": [
    "#resize_color_origin_train=pd.read_pickle('resize_color_origin_train.pickle')\n",
    "resize_color_origin_test=pd.read_pickle('resize_color_origin_test.pickle')"
   ]
  },
  {
   "cell_type": "code",
   "execution_count": 8,
   "metadata": {
    "collapsed": false
   },
   "outputs": [],
   "source": [
    "origin_train_Matrix=[]\n",
    "test = resize_color_origin_train['ColorArray'].apply(origin_train_Matrix.append)\n",
    "origin_train_Matrix=np.array(origin_train_Matrix)"
   ]
  },
  {
   "cell_type": "code",
   "execution_count": 9,
   "metadata": {
    "collapsed": false
   },
   "outputs": [
    {
     "data": {
      "text/plain": [
       "array([[[29, 44, 41],\n",
       "        [27, 42, 39],\n",
       "        [23, 38, 35],\n",
       "        ..., \n",
       "        [19, 29, 20],\n",
       "        [ 9, 19, 10],\n",
       "        [20, 30, 21]],\n",
       "\n",
       "       [[26, 41, 38],\n",
       "        [25, 40, 37],\n",
       "        [24, 39, 36],\n",
       "        ..., \n",
       "        [19, 29, 20],\n",
       "        [ 9, 19, 10],\n",
       "        [20, 30, 21]],\n",
       "\n",
       "       [[18, 33, 30],\n",
       "        [20, 35, 32],\n",
       "        [22, 37, 34],\n",
       "        ..., \n",
       "        [19, 29, 20],\n",
       "        [ 9, 19, 10],\n",
       "        [20, 30, 21]],\n",
       "\n",
       "       ..., \n",
       "       [[20, 27, 20],\n",
       "        [23, 30, 23],\n",
       "        [25, 32, 25],\n",
       "        ..., \n",
       "        [13, 28, 25],\n",
       "        [20, 34, 34],\n",
       "        [27, 41, 41]],\n",
       "\n",
       "       [[26, 31, 25],\n",
       "        [29, 34, 28],\n",
       "        [30, 35, 29],\n",
       "        ..., \n",
       "        [21, 36, 33],\n",
       "        [30, 44, 44],\n",
       "        [39, 53, 53]],\n",
       "\n",
       "       [[35, 40, 34],\n",
       "        [36, 41, 35],\n",
       "        [37, 42, 36],\n",
       "        ..., \n",
       "        [32, 47, 44],\n",
       "        [41, 55, 55],\n",
       "        [51, 65, 65]]], dtype=uint8)"
      ]
     },
     "execution_count": 9,
     "metadata": {},
     "output_type": "execute_result"
    }
   ],
   "source": [
    "origin_train_Matrix[0]"
   ]
  },
  {
   "cell_type": "code",
   "execution_count": 10,
   "metadata": {
    "collapsed": false
   },
   "outputs": [
    {
     "data": {
      "text/plain": [
       "(256, 256, 3)"
      ]
     },
     "execution_count": 10,
     "metadata": {},
     "output_type": "execute_result"
    }
   ],
   "source": [
    "origin_train_Matrix[0].shape"
   ]
  },
  {
   "cell_type": "code",
   "execution_count": 9,
   "metadata": {
    "collapsed": false
   },
   "outputs": [
    {
     "data": {
      "text/plain": [
       "(8000, 256, 256, 3)"
      ]
     },
     "execution_count": 9,
     "metadata": {},
     "output_type": "execute_result"
    }
   ],
   "source": [
    "origin_train_Matrix.shape"
   ]
  },
  {
   "cell_type": "code",
   "execution_count": 12,
   "metadata": {
    "collapsed": true
   },
   "outputs": [],
   "source": [
    "import pickle\n",
    "with open('origin_train_Matrix.pickle', 'wb') as handle:\n",
    "    pickle.dump(origin_train_Matrix, handle,protocol=2)"
   ]
  },
  {
   "cell_type": "code",
   "execution_count": 8,
   "metadata": {
    "collapsed": true
   },
   "outputs": [],
   "source": [
    "origin_train_Matrix=pd.read_pickle('origin_train_Matrix.pickle')"
   ]
  },
  {
   "cell_type": "code",
   "execution_count": 8,
   "metadata": {
    "collapsed": true
   },
   "outputs": [],
   "source": [
    "origin_test_Matrix=[]\n",
    "test = resize_color_origin_test['ColorArray'].apply(origin_test_Matrix.append)\n",
    "origin_test_Matrix=np.array(origin_test_Matrix)"
   ]
  },
  {
   "cell_type": "code",
   "execution_count": 9,
   "metadata": {
    "collapsed": false
   },
   "outputs": [
    {
     "data": {
      "text/plain": [
       "(256, 256, 3)"
      ]
     },
     "execution_count": 9,
     "metadata": {},
     "output_type": "execute_result"
    }
   ],
   "source": [
    "origin_test_Matrix[0].shape"
   ]
  },
  {
   "cell_type": "code",
   "execution_count": 10,
   "metadata": {
    "collapsed": false
   },
   "outputs": [
    {
     "data": {
      "text/plain": [
       "(13999, 256, 256, 3)"
      ]
     },
     "execution_count": 10,
     "metadata": {},
     "output_type": "execute_result"
    }
   ],
   "source": [
    "origin_test_Matrix.shape"
   ]
  },
  {
   "cell_type": "code",
   "execution_count": 14,
   "metadata": {
    "collapsed": false
   },
   "outputs": [
    {
     "data": {
      "text/plain": [
       "(5999, 256, 256, 3)"
      ]
     },
     "execution_count": 14,
     "metadata": {},
     "output_type": "execute_result"
    }
   ],
   "source": [
    "origin_test_Matrix[8000:13999].shape"
   ]
  },
  {
   "cell_type": "code",
   "execution_count": 11,
   "metadata": {
    "collapsed": true
   },
   "outputs": [],
   "source": [
    "del resize_color_origin_test"
   ]
  },
  {
   "cell_type": "code",
   "execution_count": 19,
   "metadata": {
    "collapsed": false
   },
   "outputs": [],
   "source": [
    "#import pickle\n",
    "#with open('origin_test_Matrix.pickle', 'wb') as handle:\n",
    "#    pickle.dump(origin_test_Matrix, handle,protocol=2)"
   ]
  },
  {
   "cell_type": "markdown",
   "metadata": {
    "collapsed": true
   },
   "source": [
    "# Extract CNN layers"
   ]
  },
  {
   "cell_type": "code",
   "execution_count": 12,
   "metadata": {
    "collapsed": true
   },
   "outputs": [],
   "source": [
    "def CNN_feature(layer,X):\n",
    "    tf = OverfeatTransformer(output_layers=[layer])\n",
    "    X_tf = tf.transform(X)\n",
    "    X_tf.shape\n",
    "    return X_tf"
   ]
  },
  {
   "cell_type": "code",
   "execution_count": 14,
   "metadata": {
    "collapsed": true
   },
   "outputs": [],
   "source": [
    "del origin_train_Matrix"
   ]
  },
  {
   "cell_type": "code",
   "execution_count": 11,
   "metadata": {
    "collapsed": false
   },
   "outputs": [],
   "source": [
    "CNN_4 = CNN_feature(4,origin_train_Matrix)"
   ]
  },
  {
   "cell_type": "code",
   "execution_count": 13,
   "metadata": {
    "collapsed": false
   },
   "outputs": [
    {
     "data": {
      "text/plain": [
       "(8000, 43264)"
      ]
     },
     "execution_count": 13,
     "metadata": {},
     "output_type": "execute_result"
    }
   ],
   "source": [
    "CNN_4.shape"
   ]
  },
  {
   "cell_type": "code",
   "execution_count": 16,
   "metadata": {
    "collapsed": false
   },
   "outputs": [],
   "source": [
    "#import pickle\n",
    "#with open('CNN_4_train.pickle', 'wb') as handle:\n",
    "#    pickle.dump(CNN_4, handle,protocol=2)"
   ]
  },
  {
   "cell_type": "code",
   "execution_count": 7,
   "metadata": {
    "collapsed": true
   },
   "outputs": [],
   "source": [
    "CNN_4=pd.read_pickle('CNN_4_train.pickle')"
   ]
  },
  {
   "cell_type": "code",
   "execution_count": 18,
   "metadata": {
    "collapsed": false
   },
   "outputs": [],
   "source": [
    "train = pd.DataFrame(CNN_4)\n",
    "train['Class'] = all_labels\n",
    "train['Id'] = all_train_id\n",
    "target = 'Class'\n",
    "Predictors=[x for x in train.columns if x not in ['Id','Class']]"
   ]
  },
  {
   "cell_type": "code",
   "execution_count": 8,
   "metadata": {
    "collapsed": true
   },
   "outputs": [],
   "source": [
    "del CNN_4"
   ]
  },
  {
   "cell_type": "code",
   "execution_count": 24,
   "metadata": {
    "collapsed": true
   },
   "outputs": [],
   "source": [
    "train['Class']=train['Class']-1"
   ]
  },
  {
   "cell_type": "code",
   "execution_count": 25,
   "metadata": {
    "collapsed": false
   },
   "outputs": [
    {
     "data": {
      "text/html": [
       "<div>\n",
       "<table border=\"1\" class=\"dataframe\">\n",
       "  <thead>\n",
       "    <tr style=\"text-align: right;\">\n",
       "      <th></th>\n",
       "      <th>0</th>\n",
       "      <th>1</th>\n",
       "      <th>2</th>\n",
       "      <th>3</th>\n",
       "      <th>4</th>\n",
       "      <th>5</th>\n",
       "      <th>6</th>\n",
       "      <th>7</th>\n",
       "      <th>8</th>\n",
       "      <th>9</th>\n",
       "      <th>...</th>\n",
       "      <th>43256</th>\n",
       "      <th>43257</th>\n",
       "      <th>43258</th>\n",
       "      <th>43259</th>\n",
       "      <th>43260</th>\n",
       "      <th>43261</th>\n",
       "      <th>43262</th>\n",
       "      <th>43263</th>\n",
       "      <th>Class</th>\n",
       "      <th>Id</th>\n",
       "    </tr>\n",
       "  </thead>\n",
       "  <tbody>\n",
       "    <tr>\n",
       "      <th>0</th>\n",
       "      <td>0.000000</td>\n",
       "      <td>0.000000</td>\n",
       "      <td>1.084932</td>\n",
       "      <td>0.00000</td>\n",
       "      <td>0.0</td>\n",
       "      <td>0.0</td>\n",
       "      <td>0.0</td>\n",
       "      <td>0.0</td>\n",
       "      <td>0.0</td>\n",
       "      <td>0.000000</td>\n",
       "      <td>...</td>\n",
       "      <td>1.804425</td>\n",
       "      <td>0.000000</td>\n",
       "      <td>0.000000</td>\n",
       "      <td>0.000000</td>\n",
       "      <td>3.459209</td>\n",
       "      <td>1.814213</td>\n",
       "      <td>0.294278</td>\n",
       "      <td>3.943680</td>\n",
       "      <td>3</td>\n",
       "      <td>-3935637</td>\n",
       "    </tr>\n",
       "    <tr>\n",
       "      <th>1</th>\n",
       "      <td>0.000000</td>\n",
       "      <td>0.686480</td>\n",
       "      <td>0.000000</td>\n",
       "      <td>0.00000</td>\n",
       "      <td>0.0</td>\n",
       "      <td>0.0</td>\n",
       "      <td>0.0</td>\n",
       "      <td>0.0</td>\n",
       "      <td>0.0</td>\n",
       "      <td>0.000000</td>\n",
       "      <td>...</td>\n",
       "      <td>2.103195</td>\n",
       "      <td>5.088358</td>\n",
       "      <td>3.797582</td>\n",
       "      <td>0.000000</td>\n",
       "      <td>0.000000</td>\n",
       "      <td>0.000000</td>\n",
       "      <td>8.738600</td>\n",
       "      <td>3.650664</td>\n",
       "      <td>2</td>\n",
       "      <td>-2815459</td>\n",
       "    </tr>\n",
       "    <tr>\n",
       "      <th>2</th>\n",
       "      <td>0.000000</td>\n",
       "      <td>0.000000</td>\n",
       "      <td>0.000000</td>\n",
       "      <td>0.00000</td>\n",
       "      <td>0.0</td>\n",
       "      <td>0.0</td>\n",
       "      <td>0.0</td>\n",
       "      <td>0.0</td>\n",
       "      <td>0.0</td>\n",
       "      <td>0.000000</td>\n",
       "      <td>...</td>\n",
       "      <td>0.178296</td>\n",
       "      <td>2.207493</td>\n",
       "      <td>1.358124</td>\n",
       "      <td>2.292116</td>\n",
       "      <td>2.343516</td>\n",
       "      <td>2.346575</td>\n",
       "      <td>2.134747</td>\n",
       "      <td>3.390357</td>\n",
       "      <td>2</td>\n",
       "      <td>-2355684</td>\n",
       "    </tr>\n",
       "    <tr>\n",
       "      <th>3</th>\n",
       "      <td>6.458548</td>\n",
       "      <td>0.000000</td>\n",
       "      <td>4.098860</td>\n",
       "      <td>5.11187</td>\n",
       "      <td>0.0</td>\n",
       "      <td>0.0</td>\n",
       "      <td>0.0</td>\n",
       "      <td>0.0</td>\n",
       "      <td>0.0</td>\n",
       "      <td>4.961978</td>\n",
       "      <td>...</td>\n",
       "      <td>2.290351</td>\n",
       "      <td>6.531635</td>\n",
       "      <td>9.873084</td>\n",
       "      <td>2.999096</td>\n",
       "      <td>1.514193</td>\n",
       "      <td>2.112572</td>\n",
       "      <td>2.616589</td>\n",
       "      <td>4.357081</td>\n",
       "      <td>3</td>\n",
       "      <td>-2343303</td>\n",
       "    </tr>\n",
       "    <tr>\n",
       "      <th>4</th>\n",
       "      <td>0.000000</td>\n",
       "      <td>11.419174</td>\n",
       "      <td>0.000000</td>\n",
       "      <td>0.00000</td>\n",
       "      <td>0.0</td>\n",
       "      <td>0.0</td>\n",
       "      <td>0.0</td>\n",
       "      <td>0.0</td>\n",
       "      <td>0.0</td>\n",
       "      <td>0.000000</td>\n",
       "      <td>...</td>\n",
       "      <td>2.314942</td>\n",
       "      <td>1.754873</td>\n",
       "      <td>2.425998</td>\n",
       "      <td>2.852057</td>\n",
       "      <td>4.324605</td>\n",
       "      <td>3.768018</td>\n",
       "      <td>2.952718</td>\n",
       "      <td>2.096267</td>\n",
       "      <td>1</td>\n",
       "      <td>-1981985</td>\n",
       "    </tr>\n",
       "  </tbody>\n",
       "</table>\n",
       "<p>5 rows × 43266 columns</p>\n",
       "</div>"
      ],
      "text/plain": [
       "          0          1         2        3    4    5    6    7    8         9  \\\n",
       "0  0.000000   0.000000  1.084932  0.00000  0.0  0.0  0.0  0.0  0.0  0.000000   \n",
       "1  0.000000   0.686480  0.000000  0.00000  0.0  0.0  0.0  0.0  0.0  0.000000   \n",
       "2  0.000000   0.000000  0.000000  0.00000  0.0  0.0  0.0  0.0  0.0  0.000000   \n",
       "3  6.458548   0.000000  4.098860  5.11187  0.0  0.0  0.0  0.0  0.0  4.961978   \n",
       "4  0.000000  11.419174  0.000000  0.00000  0.0  0.0  0.0  0.0  0.0  0.000000   \n",
       "\n",
       "    ...        43256     43257     43258     43259     43260     43261  \\\n",
       "0   ...     1.804425  0.000000  0.000000  0.000000  3.459209  1.814213   \n",
       "1   ...     2.103195  5.088358  3.797582  0.000000  0.000000  0.000000   \n",
       "2   ...     0.178296  2.207493  1.358124  2.292116  2.343516  2.346575   \n",
       "3   ...     2.290351  6.531635  9.873084  2.999096  1.514193  2.112572   \n",
       "4   ...     2.314942  1.754873  2.425998  2.852057  4.324605  3.768018   \n",
       "\n",
       "      43262     43263  Class       Id  \n",
       "0  0.294278  3.943680      3 -3935637  \n",
       "1  8.738600  3.650664      2 -2815459  \n",
       "2  2.134747  3.390357      2 -2355684  \n",
       "3  2.616589  4.357081      3 -2343303  \n",
       "4  2.952718  2.096267      1 -1981985  \n",
       "\n",
       "[5 rows x 43266 columns]"
      ]
     },
     "execution_count": 25,
     "metadata": {},
     "output_type": "execute_result"
    }
   ],
   "source": [
    "train.head()"
   ]
  },
  {
   "cell_type": "code",
   "execution_count": 28,
   "metadata": {
    "collapsed": false
   },
   "outputs": [
    {
     "data": {
      "text/plain": [
       "(8000, 43266)"
      ]
     },
     "execution_count": 28,
     "metadata": {},
     "output_type": "execute_result"
    }
   ],
   "source": [
    "train.shape"
   ]
  },
  {
   "cell_type": "code",
   "execution_count": 11,
   "metadata": {
    "collapsed": true
   },
   "outputs": [],
   "source": [
    "del train"
   ]
  },
  {
   "cell_type": "code",
   "execution_count": 29,
   "metadata": {
    "collapsed": true
   },
   "outputs": [],
   "source": [
    "with open('CNN_4_train.pickle', 'wb') as handle:\n",
    "    pickle.dump(train, handle,protocol=2)"
   ]
  },
  {
   "cell_type": "code",
   "execution_count": 9,
   "metadata": {
    "collapsed": true
   },
   "outputs": [],
   "source": [
    "train=pd.read_pickle('CNN_4_train.pickle')"
   ]
  },
  {
   "cell_type": "code",
   "execution_count": 10,
   "metadata": {
    "collapsed": false
   },
   "outputs": [
    {
     "data": {
      "text/plain": [
       "(8000, 43266)"
      ]
     },
     "execution_count": 10,
     "metadata": {},
     "output_type": "execute_result"
    }
   ],
   "source": [
    "train.shape"
   ]
  },
  {
   "cell_type": "code",
   "execution_count": 15,
   "metadata": {
    "collapsed": true
   },
   "outputs": [],
   "source": [
    "CNN_4_test1 = CNN_feature(4,origin_test_Matrix[0:8000])"
   ]
  },
  {
   "cell_type": "code",
   "execution_count": 16,
   "metadata": {
    "collapsed": false
   },
   "outputs": [
    {
     "data": {
      "text/plain": [
       "(8000, 43264)"
      ]
     },
     "execution_count": 16,
     "metadata": {},
     "output_type": "execute_result"
    }
   ],
   "source": [
    "CNN_4_test1.shape"
   ]
  },
  {
   "cell_type": "code",
   "execution_count": 18,
   "metadata": {
    "collapsed": false
   },
   "outputs": [],
   "source": [
    "test1 = pd.DataFrame(CNN_4_test1)\n",
    "test1['Id'] = test_id[0:8000]\n",
    "Predictors_test=[x for x in test1.columns if x not in ['Id']]"
   ]
  },
  {
   "cell_type": "code",
   "execution_count": 19,
   "metadata": {
    "collapsed": false
   },
   "outputs": [
    {
     "data": {
      "text/plain": [
       "(8000, 43265)"
      ]
     },
     "execution_count": 19,
     "metadata": {},
     "output_type": "execute_result"
    }
   ],
   "source": [
    "test1.shape"
   ]
  },
  {
   "cell_type": "code",
   "execution_count": 21,
   "metadata": {
    "collapsed": false
   },
   "outputs": [],
   "source": [
    "import pickle\n",
    "with open('CNN_4_test1.pickle', 'wb') as handle:\n",
    "    pickle.dump(test1, handle,protocol=2)"
   ]
  },
  {
   "cell_type": "code",
   "execution_count": 22,
   "metadata": {
    "collapsed": true
   },
   "outputs": [],
   "source": [
    "CNN_4_test2 = CNN_feature(4,origin_test_Matrix[8000:13999])"
   ]
  },
  {
   "cell_type": "code",
   "execution_count": 23,
   "metadata": {
    "collapsed": false
   },
   "outputs": [
    {
     "data": {
      "text/plain": [
       "(5999, 43264)"
      ]
     },
     "execution_count": 23,
     "metadata": {},
     "output_type": "execute_result"
    }
   ],
   "source": [
    "CNN_4_test2.shape"
   ]
  },
  {
   "cell_type": "code",
   "execution_count": 24,
   "metadata": {
    "collapsed": true
   },
   "outputs": [],
   "source": [
    "test2 = pd.DataFrame(CNN_4_test2)\n",
    "test2['Id'] = test_id[8000:13999]\n",
    "#Predictors_test=[x for x in test1.columns if x not in ['Id']]"
   ]
  },
  {
   "cell_type": "code",
   "execution_count": 25,
   "metadata": {
    "collapsed": true
   },
   "outputs": [],
   "source": [
    "test2['Id'] = test_id[8000:13999]"
   ]
  },
  {
   "cell_type": "code",
   "execution_count": 26,
   "metadata": {
    "collapsed": false
   },
   "outputs": [
    {
     "data": {
      "text/plain": [
       "(5999, 43265)"
      ]
     },
     "execution_count": 26,
     "metadata": {},
     "output_type": "execute_result"
    }
   ],
   "source": [
    "test2.shape"
   ]
  },
  {
   "cell_type": "code",
   "execution_count": 27,
   "metadata": {
    "collapsed": true
   },
   "outputs": [],
   "source": [
    "import pickle\n",
    "with open('CNN_4_test2.pickle', 'wb') as handle:\n",
    "    pickle.dump(test2, handle,protocol=2)"
   ]
  },
  {
   "cell_type": "code",
   "execution_count": 3,
   "metadata": {
    "collapsed": true
   },
   "outputs": [],
   "source": [
    "test1 = pd.read_pickle('CNN_4_test1.pickle')\n",
    "test2 = pd.read_pickle('CNN_4_test2.pickle')"
   ]
  },
  {
   "cell_type": "code",
   "execution_count": 4,
   "metadata": {
    "collapsed": true
   },
   "outputs": [],
   "source": [
    "df = [test1,test2]\n",
    "test_pd = pd.concat(df)"
   ]
  },
  {
   "cell_type": "code",
   "execution_count": 5,
   "metadata": {
    "collapsed": false
   },
   "outputs": [
    {
     "data": {
      "text/plain": [
       "(13999, 43265)"
      ]
     },
     "execution_count": 5,
     "metadata": {},
     "output_type": "execute_result"
    }
   ],
   "source": [
    "test_pd.shape"
   ]
  },
  {
   "cell_type": "code",
   "execution_count": 6,
   "metadata": {
    "collapsed": true
   },
   "outputs": [],
   "source": [
    "del test1"
   ]
  },
  {
   "cell_type": "code",
   "execution_count": 7,
   "metadata": {
    "collapsed": true
   },
   "outputs": [],
   "source": [
    "del test2"
   ]
  },
  {
   "cell_type": "code",
   "execution_count": 8,
   "metadata": {
    "collapsed": false
   },
   "outputs": [],
   "source": [
    "#import pickle\n",
    "#with open('test_pd.pickle', 'wb') as handle:\n",
    "#    pickle.dump(test_pd, handle,protocol=2)"
   ]
  },
  {
   "cell_type": "code",
   "execution_count": 8,
   "metadata": {
    "collapsed": false
   },
   "outputs": [
    {
     "data": {
      "text/html": [
       "<div>\n",
       "<table border=\"1\" class=\"dataframe\">\n",
       "  <thead>\n",
       "    <tr style=\"text-align: right;\">\n",
       "      <th></th>\n",
       "      <th>0</th>\n",
       "      <th>1</th>\n",
       "      <th>2</th>\n",
       "      <th>3</th>\n",
       "      <th>4</th>\n",
       "      <th>5</th>\n",
       "      <th>6</th>\n",
       "      <th>7</th>\n",
       "      <th>8</th>\n",
       "      <th>9</th>\n",
       "      <th>...</th>\n",
       "      <th>43255</th>\n",
       "      <th>43256</th>\n",
       "      <th>43257</th>\n",
       "      <th>43258</th>\n",
       "      <th>43259</th>\n",
       "      <th>43260</th>\n",
       "      <th>43261</th>\n",
       "      <th>43262</th>\n",
       "      <th>43263</th>\n",
       "      <th>Id</th>\n",
       "    </tr>\n",
       "  </thead>\n",
       "  <tbody>\n",
       "    <tr>\n",
       "      <th>0</th>\n",
       "      <td>0.000000</td>\n",
       "      <td>0.00000</td>\n",
       "      <td>0.0</td>\n",
       "      <td>0.000000</td>\n",
       "      <td>0.000000</td>\n",
       "      <td>3.478970</td>\n",
       "      <td>2.191785</td>\n",
       "      <td>0.000000</td>\n",
       "      <td>0.000000</td>\n",
       "      <td>0.000000</td>\n",
       "      <td>...</td>\n",
       "      <td>4.926783</td>\n",
       "      <td>5.279008</td>\n",
       "      <td>6.531221</td>\n",
       "      <td>6.964129</td>\n",
       "      <td>5.312031</td>\n",
       "      <td>3.893291</td>\n",
       "      <td>4.606564</td>\n",
       "      <td>2.955109</td>\n",
       "      <td>2.401158</td>\n",
       "      <td>766723500.0</td>\n",
       "    </tr>\n",
       "    <tr>\n",
       "      <th>1</th>\n",
       "      <td>0.000000</td>\n",
       "      <td>0.00000</td>\n",
       "      <td>0.0</td>\n",
       "      <td>0.207979</td>\n",
       "      <td>0.000000</td>\n",
       "      <td>3.282540</td>\n",
       "      <td>0.000000</td>\n",
       "      <td>0.000000</td>\n",
       "      <td>0.000000</td>\n",
       "      <td>0.000000</td>\n",
       "      <td>...</td>\n",
       "      <td>2.794873</td>\n",
       "      <td>4.657119</td>\n",
       "      <td>1.750573</td>\n",
       "      <td>0.000000</td>\n",
       "      <td>0.000000</td>\n",
       "      <td>0.000000</td>\n",
       "      <td>0.000000</td>\n",
       "      <td>6.048339</td>\n",
       "      <td>6.132316</td>\n",
       "      <td>739273600.0</td>\n",
       "    </tr>\n",
       "    <tr>\n",
       "      <th>2</th>\n",
       "      <td>1.219605</td>\n",
       "      <td>2.01839</td>\n",
       "      <td>0.0</td>\n",
       "      <td>1.710595</td>\n",
       "      <td>3.242033</td>\n",
       "      <td>0.000000</td>\n",
       "      <td>3.001603</td>\n",
       "      <td>1.737243</td>\n",
       "      <td>0.097029</td>\n",
       "      <td>2.060579</td>\n",
       "      <td>...</td>\n",
       "      <td>6.416501</td>\n",
       "      <td>10.445930</td>\n",
       "      <td>5.577863</td>\n",
       "      <td>0.000000</td>\n",
       "      <td>0.000000</td>\n",
       "      <td>2.792330</td>\n",
       "      <td>5.694457</td>\n",
       "      <td>6.024070</td>\n",
       "      <td>2.330191</td>\n",
       "      <td>156621880.0</td>\n",
       "    </tr>\n",
       "    <tr>\n",
       "      <th>3</th>\n",
       "      <td>0.000000</td>\n",
       "      <td>0.00000</td>\n",
       "      <td>0.0</td>\n",
       "      <td>0.000000</td>\n",
       "      <td>1.040887</td>\n",
       "      <td>1.131448</td>\n",
       "      <td>0.000000</td>\n",
       "      <td>0.000000</td>\n",
       "      <td>0.000000</td>\n",
       "      <td>0.000000</td>\n",
       "      <td>...</td>\n",
       "      <td>1.757758</td>\n",
       "      <td>1.770751</td>\n",
       "      <td>3.008193</td>\n",
       "      <td>2.760686</td>\n",
       "      <td>0.941267</td>\n",
       "      <td>2.582855</td>\n",
       "      <td>0.000000</td>\n",
       "      <td>0.477683</td>\n",
       "      <td>0.279537</td>\n",
       "      <td>156551275.0</td>\n",
       "    </tr>\n",
       "    <tr>\n",
       "      <th>4</th>\n",
       "      <td>0.000000</td>\n",
       "      <td>0.00000</td>\n",
       "      <td>0.0</td>\n",
       "      <td>0.000000</td>\n",
       "      <td>0.000000</td>\n",
       "      <td>0.000000</td>\n",
       "      <td>0.000000</td>\n",
       "      <td>1.828242</td>\n",
       "      <td>0.000000</td>\n",
       "      <td>0.000000</td>\n",
       "      <td>...</td>\n",
       "      <td>0.600482</td>\n",
       "      <td>1.571823</td>\n",
       "      <td>1.689718</td>\n",
       "      <td>1.442909</td>\n",
       "      <td>0.000000</td>\n",
       "      <td>1.170244</td>\n",
       "      <td>2.912273</td>\n",
       "      <td>2.826955</td>\n",
       "      <td>5.088355</td>\n",
       "      <td>793980800.0</td>\n",
       "    </tr>\n",
       "  </tbody>\n",
       "</table>\n",
       "<p>5 rows × 43265 columns</p>\n",
       "</div>"
      ],
      "text/plain": [
       "          0        1    2         3         4         5         6         7  \\\n",
       "0  0.000000  0.00000  0.0  0.000000  0.000000  3.478970  2.191785  0.000000   \n",
       "1  0.000000  0.00000  0.0  0.207979  0.000000  3.282540  0.000000  0.000000   \n",
       "2  1.219605  2.01839  0.0  1.710595  3.242033  0.000000  3.001603  1.737243   \n",
       "3  0.000000  0.00000  0.0  0.000000  1.040887  1.131448  0.000000  0.000000   \n",
       "4  0.000000  0.00000  0.0  0.000000  0.000000  0.000000  0.000000  1.828242   \n",
       "\n",
       "          8         9     ...          43255      43256     43257     43258  \\\n",
       "0  0.000000  0.000000     ...       4.926783   5.279008  6.531221  6.964129   \n",
       "1  0.000000  0.000000     ...       2.794873   4.657119  1.750573  0.000000   \n",
       "2  0.097029  2.060579     ...       6.416501  10.445930  5.577863  0.000000   \n",
       "3  0.000000  0.000000     ...       1.757758   1.770751  3.008193  2.760686   \n",
       "4  0.000000  0.000000     ...       0.600482   1.571823  1.689718  1.442909   \n",
       "\n",
       "      43259     43260     43261     43262     43263           Id  \n",
       "0  5.312031  3.893291  4.606564  2.955109  2.401158  766723500.0  \n",
       "1  0.000000  0.000000  0.000000  6.048339  6.132316  739273600.0  \n",
       "2  0.000000  2.792330  5.694457  6.024070  2.330191  156621880.0  \n",
       "3  0.941267  2.582855  0.000000  0.477683  0.279537  156551275.0  \n",
       "4  0.000000  1.170244  2.912273  2.826955  5.088355  793980800.0  \n",
       "\n",
       "[5 rows x 43265 columns]"
      ]
     },
     "execution_count": 8,
     "metadata": {},
     "output_type": "execute_result"
    }
   ],
   "source": [
    "test_pd.head()"
   ]
  },
  {
   "cell_type": "markdown",
   "metadata": {},
   "source": [
    "## Extreme Gradient Boosting"
   ]
  },
  {
   "cell_type": "markdown",
   "metadata": {},
   "source": [
    "### Step 1- Find the number of estimators for a high learning rate"
   ]
  },
  {
   "cell_type": "code",
   "execution_count": 9,
   "metadata": {
    "collapsed": true
   },
   "outputs": [],
   "source": [
    "import xgboost as xgb\n",
    "from xgboost.sklearn import XGBClassifier"
   ]
  },
  {
   "cell_type": "code",
   "execution_count": 22,
   "metadata": {
    "collapsed": true
   },
   "outputs": [],
   "source": [
    "def modelfit(alg, dtrain, predictors,target, useTrainCV=True, cv_folds=5, early_stopping_round=50):\n",
    "    \n",
    "    if useTrainCV:\n",
    "        xgb_param = alg.get_xgb_params()\n",
    "        xgtrain = xgb.DMatrix(dtrain[predictors].values, label=dtrain[target].values)\n",
    "        #xgtest = xgb.DMatrix(dtest[predictors].values)\n",
    "        xgb_param_forcv = xgb_param\n",
    "        xgb_param_forcv['num_class'] = 4\n",
    "        cvresult = xgb.cv(xgb_param_forcv, xgtrain, num_boost_round=alg.get_params()['n_estimators'], nfold=cv_folds,\n",
    "             early_stopping_rounds=early_stopping_round, show_progress=True)\n",
    "        alg.set_params(n_estimators=cvresult.shape[0])\n",
    "    \n",
    "    #Fit the algorithm on the data\n",
    "    alg.fit(dtrain[predictors], dtrain[target],eval_metric='merror')\n",
    "    \n",
    "    #Predict training set:\n",
    "    dtrain_predictions = alg.predict(dtrain[predictors])\n",
    "    #dtrain_predprob = alg.predict_proba(dtrain[predictors])[:,1]\n",
    "    return alg, dtrain_predictions"
   ]
  },
  {
   "cell_type": "code",
   "execution_count": 26,
   "metadata": {
    "collapsed": false
   },
   "outputs": [
    {
     "name": "stderr",
     "output_type": "stream",
     "text": [
      "Will train until cv error hasn't decreased in 50 rounds.\n",
      "[0]\tcv-test-merror:0.41+0.0114291294507\tcv-train-merror:0.28525+0.00404279452854\n",
      "[1]\tcv-test-merror:0.366375+0.0114455231423\tcv-train-merror:0.2295938+0.00519566316845\n",
      "[2]\tcv-test-merror:0.350125+0.00764852927039\tcv-train-merror:0.204+0.00296402914965\n",
      "[3]\tcv-test-merror:0.341375+0.00861865708797\tcv-train-merror:0.1898438+0.00113975741279\n",
      "[4]\tcv-test-merror:0.33275+0.00967115556694\tcv-train-merror:0.1781564+0.00367562368041\n",
      "[5]\tcv-test-merror:0.324+0.012409673646\tcv-train-merror:0.1685626+0.00570978656694\n",
      "[6]\tcv-test-merror:0.32025+0.00686476510887\tcv-train-merror:0.1620624+0.00346755813794\n",
      "[7]\tcv-test-merror:0.317875+0.0101365674664\tcv-train-merror:0.1551876+0.00229106487032\n",
      "[8]\tcv-test-merror:0.315+0.0109330348028\tcv-train-merror:0.1484062+0.00245351408392\n",
      "[9]\tcv-test-merror:0.309+0.00649037749287\tcv-train-merror:0.143219+0.00250499189619\n"
     ]
    }
   ],
   "source": [
    "xgb1 = XGBClassifier(\n",
    "        learning_rate =0.1,\n",
    "        n_estimators=100,\n",
    "        max_depth=5,\n",
    "        min_child_weight=1,\n",
    "        gamma=0,\n",
    "        subsample=0.8,\n",
    "        colsample_bytree=0.8,\n",
    "        objective= 'multi:softmax',\n",
    "        nthread=4,\n",
    "        scale_pos_weight=1,\n",
    "        seed=27)\n",
    "xgb1, dtrain_predictions = modelfit(xgb1, train, Predictors,target)"
   ]
  },
  {
   "cell_type": "code",
   "execution_count": 10,
   "metadata": {
    "collapsed": false
   },
   "outputs": [],
   "source": [
    "xgb1 = XGBClassifier(\n",
    "        learning_rate =0.1,\n",
    "        n_estimators=100,\n",
    "        max_depth=5,\n",
    "        min_child_weight=1,\n",
    "        gamma=0,\n",
    "        subsample=0.8,\n",
    "        colsample_bytree=0.8,\n",
    "        objective= 'multi:softmax',\n",
    "        nthread=4,\n",
    "        scale_pos_weight=1,\n",
    "        seed=27)"
   ]
  },
  {
   "cell_type": "code",
   "execution_count": 11,
   "metadata": {
    "collapsed": true
   },
   "outputs": [],
   "source": [
    "train=pd.read_pickle('CNN_4_train.pickle')"
   ]
  },
  {
   "cell_type": "code",
   "execution_count": 12,
   "metadata": {
    "collapsed": true
   },
   "outputs": [],
   "source": [
    "Predictors=[x for x in train.columns if x not in ['Id','Class']]"
   ]
  },
  {
   "cell_type": "code",
   "execution_count": 13,
   "metadata": {
    "collapsed": false
   },
   "outputs": [],
   "source": [
    "clf = xgb1.fit(train[Predictors],train['Class'],eval_metric='merror')"
   ]
  },
  {
   "cell_type": "code",
   "execution_count": 21,
   "metadata": {
    "collapsed": true
   },
   "outputs": [],
   "source": [
    "del train"
   ]
  },
  {
   "cell_type": "code",
   "execution_count": 15,
   "metadata": {
    "collapsed": true
   },
   "outputs": [],
   "source": [
    "Predictors_test=[x for x in test_pd.columns if x not in ['Id']]"
   ]
  },
  {
   "cell_type": "code",
   "execution_count": 16,
   "metadata": {
    "collapsed": false
   },
   "outputs": [],
   "source": [
    "test_result = xgb1.predict(test_pd[Predictors_test])"
   ]
  },
  {
   "cell_type": "code",
   "execution_count": 17,
   "metadata": {
    "collapsed": false
   },
   "outputs": [
    {
     "data": {
      "text/plain": [
       "1    4114\n",
       "2    3929\n",
       "4    3067\n",
       "3    2889\n",
       "dtype: int64"
      ]
     },
     "execution_count": 17,
     "metadata": {},
     "output_type": "execute_result"
    }
   ],
   "source": [
    "test_resultout = test_result+1\n",
    "pd.Series(test_resultout).value_counts()"
   ]
  },
  {
   "cell_type": "code",
   "execution_count": 18,
   "metadata": {
    "collapsed": false
   },
   "outputs": [
    {
     "data": {
      "text/plain": [
       "array([4, 4, 1, ..., 3, 3, 3])"
      ]
     },
     "execution_count": 18,
     "metadata": {},
     "output_type": "execute_result"
    }
   ],
   "source": [
    "test_resultout"
   ]
  },
  {
   "cell_type": "code",
   "execution_count": 19,
   "metadata": {
    "collapsed": true
   },
   "outputs": [],
   "source": [
    "d = {'Id' : test_pd['Id'], 'Label' : test_resultout}\n",
    "df = pd.DataFrame(d)\n",
    "df.to_csv('/Users/RayLJazz/Dropbox/UCDavis/2016summer/DSG/pred10.csv', index=False)"
   ]
  },
  {
   "cell_type": "code",
   "execution_count": null,
   "metadata": {
    "collapsed": true
   },
   "outputs": [],
   "source": []
  }
 ],
 "metadata": {
  "kernelspec": {
   "display_name": "Python 2",
   "language": "python",
   "name": "python2"
  },
  "language_info": {
   "codemirror_mode": {
    "name": "ipython",
    "version": 2
   },
   "file_extension": ".py",
   "mimetype": "text/x-python",
   "name": "python",
   "nbconvert_exporter": "python",
   "pygments_lexer": "ipython2",
   "version": "2.7.11"
  }
 },
 "nbformat": 4,
 "nbformat_minor": 0
}
